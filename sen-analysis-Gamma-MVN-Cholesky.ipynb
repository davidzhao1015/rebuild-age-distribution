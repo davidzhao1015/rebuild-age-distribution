{
 "cells": [
  {
   "cell_type": "markdown",
   "id": "f55ce7f5",
   "metadata": {},
   "source": [
    "# Simulating Onset Age Distribution of anti-GABABR Autoimmune Encephalitis from Published Summary Statistics\n",
    "\n",
    "This Python notebook demonstrates the robustness of a statistical workflow for reconstructing age-at-onset distributions using real-world evidence from autoimmune encephalitis (AIE).\n"
   ]
  },
  {
   "cell_type": "markdown",
   "id": "4956686b",
   "metadata": {},
   "source": [
    "## Workflow Overview\n",
    "\n",
    "1. Define rationale: justify selection of plausible distributions based on clinical understanding of disease onset\n",
    "\n",
    "2. Fit candidate distributions:\n",
    "   - Fit the following four distributions: log-normal, weibull, generalized gamma, and metalog\n",
    "3. Estimate parameters:\n",
    "   - Use quantile matching based on known median, q1, and q3 (simplified input scenario)\n",
    "4. Evaluate goodness-of-fit:\n",
    "   - Calculate the sum of squared differences between modelled and observed quantiles\n",
    "   - Identify the best-fitting distribution\n",
    "5. Visual assessment:\n",
    "   - Plot modelled vs. empirical cdfs for the selected distribution\n",
    "6. Sensitivity analysis:\n",
    "   - Vary key parameters (e.g., sd within confidence intervals)\n",
    "   - Compare age-band proportions across simulation scenarios\n",
    "7. Robustness check:\n",
    "   - Assess model performance at lower age tails (e.g., <12 years)\n",
    "   - Fine-tune the model as needed for better fit\n",
    "8. Estimate uncertainty:\n",
    "   - Generate 95% confidence intervals for age-band proportions using bootstrap resampling\n"
   ]
  },
  {
   "cell_type": "markdown",
   "id": "84162ca9",
   "metadata": {},
   "source": [
    "## Import required library\n"
   ]
  },
  {
   "cell_type": "code",
   "execution_count": 2,
   "id": "3cee2fd3",
   "metadata": {},
   "outputs": [],
   "source": [
    "import numpy as np\n",
    "import pandas as pd\n",
    "import matplotlib.pyplot as plt\n",
    "import seaborn as sns\n",
    "from scipy.stats import lognorm, weibull_min, gamma, genextreme # Importing necessary libraries for statistical distributions \n",
    "from scipy.optimize import minimize # Optimization for parameter fitting\n",
    "from scipy.stats import probplot # Probability plot for visual assessment\n",
    "from sklearn.metrics import mean_squared_error # Mean Squared Error for goodness-of-fit\n",
    "from scipy.stats import gaussian_kde # Kernel Density Estimation for smooth CDF"
   ]
  },
  {
   "cell_type": "markdown",
   "id": "5cc9db8e",
   "metadata": {},
   "source": [
    "## Input Data: Published summary statistics for autoimmune encephalitis\n"
   ]
  },
  {
   "cell_type": "markdown",
   "id": "31098fb6",
   "metadata": {},
   "source": [
    "Example input data is derived from a published observational study by Lamblin et al. (2024), which investigated autoimmune encephalitis patients in France and the Netherlands. The input includes the median, 25th and 75th percentiles (Q1 and Q3), minimum and maximum values, mean, and reported sample size.\n",
    "\n",
    "The DOI of the publication: 10.1212/NXI.0000000000200229\n",
    "\n",
    "The detailed values are as follows:\n"
   ]
  },
  {
   "cell_type": "code",
   "execution_count": 3,
   "id": "09282e8b",
   "metadata": {},
   "outputs": [],
   "source": [
    "median = 66\n",
    "q1 = 61 \n",
    "q3 = 72\n",
    "min = 19\n",
    "max = 88\n",
    "mean = 67\n",
    "size = 111"
   ]
  },
  {
   "cell_type": "markdown",
   "id": "b90a62db",
   "metadata": {},
   "source": [
    "In the following distribution simulation, I will use median, q1 and q3 to fit multiple candidate distributions, using quantile matching method to optimize parameters."
   ]
  },
  {
   "cell_type": "markdown",
   "id": "0bd8b457",
   "metadata": {},
   "source": [
    "## Fit candidate distributions\n"
   ]
  },
  {
   "cell_type": "markdown",
   "id": "2a3b2443",
   "metadata": {},
   "source": [
    "According to the literature on autoimmune encephalitis (AIE) onset age, the distribution is often significantly right-skewed, with a higher concentration of adult patients and fewer pediatric cases. In certain subtypes, the distribution also exhibits substantial kurtosis, deviating markedly from a normal distribution. These clinical patterns suggest that parametric distributions capable of accommodating both skewness and heavy tails are suitable candidates for simulating age distributions in real-world populations.\n",
    "\n",
    "Including both classic distributions such as log-normal and Weibull, and more flexible ones like generalized gamma (and metalog), helps capture a wide range of distribution shapes, accounting for variations in skewness and kurtosis—that is, the asymmetry and tail heaviness of the distribution."
   ]
  },
  {
   "cell_type": "markdown",
   "id": "4f5656d8",
   "metadata": {},
   "source": [
    "### Log-normal\n",
    "\n",
    "Fit two parameters in log-normal distribution:\n",
    "- mu: log-scale mean\n",
    "- sigma: log-scale SD"
   ]
  },
  {
   "cell_type": "markdown",
   "id": "222d5139",
   "metadata": {},
   "source": [
    "#### Quantile matching with optimization"
   ]
  },
  {
   "cell_type": "code",
   "execution_count": 4,
   "id": "ea6203c9",
   "metadata": {},
   "outputs": [],
   "source": [
    "import numpy as np\n",
    "from scipy.stats import lognorm\n",
    "from scipy.optimize import minimize"
   ]
  },
  {
   "cell_type": "code",
   "execution_count": 5,
   "id": "3d37c0e8",
   "metadata": {},
   "outputs": [],
   "source": [
    "# Empirical quantiles\n",
    "empirical_q = [q1, median, q3]"
   ]
  },
  {
   "cell_type": "code",
   "execution_count": 6,
   "id": "7e5c65b3",
   "metadata": {},
   "outputs": [],
   "source": [
    "# Objective function: Minimize squared differences between model and empirical quantiles\n",
    "def objective(params):\n",
    "    mu, sigma = params\n",
    "    if sigma <= 0:\n",
    "        return np.inf\n",
    "    dist = lognorm(s=sigma, scale=np.exp(mu))\n",
    "    theo_q = dist.ppf([0.25, 0.5, 0.75])\n",
    "    return np.sum((np.array(theo_q) - empirical_q)**2)"
   ]
  },
  {
   "cell_type": "markdown",
   "id": "20f6d967",
   "metadata": {},
   "source": [
    "This defines the objective function for optimization:\n",
    "\n",
    "- Takes parameters mu and sigma as input\n",
    "- Returns infinity if sigma is non-positive (constraint)\n",
    "- Calculates theoretical quantiles using the log-normal distribution with given parameters\n",
    "- Returns the sum of squared differences between theoretical and empirical quantiles (this is what we want to minimize)"
   ]
  },
  {
   "cell_type": "code",
   "execution_count": 7,
   "id": "b1875311",
   "metadata": {},
   "outputs": [],
   "source": [
    "# Initial guess for mu and sigma\n",
    "initial_guess = [np.log(median), 0.5]\n",
    "bounds = [(0, None), (0.01, 5)]"
   ]
  },
  {
   "cell_type": "markdown",
   "id": "59107482",
   "metadata": {},
   "source": [
    "This sets up the optimization:\n",
    "\n",
    "- `initial_guess`: Starting values for mu (log of median) and sigma (0.5)\n",
    "- `bounds`: Constraints for the parameters - mu ≥ 0, sigma between 0.01 and 5"
   ]
  },
  {
   "cell_type": "code",
   "execution_count": 8,
   "id": "78b77e22",
   "metadata": {},
   "outputs": [
    {
     "name": "stdout",
     "output_type": "stream",
     "text": [
      "Fitted parameters:\n",
      " mu = 4.192, sigma = 0.123\n"
     ]
    }
   ],
   "source": [
    "# Optimize\n",
    "result = minimize(objective, x0=initial_guess, bounds=bounds)\n",
    "mu_fit, sigma_fit = result.x\n",
    "\n",
    "print(f'Fitted parameters:\\n mu = {mu_fit:.3f}, sigma = {sigma_fit:.3f}')"
   ]
  },
  {
   "cell_type": "markdown",
   "id": "050f8e65",
   "metadata": {},
   "source": [
    "This performs the actual optimization:\n",
    "\n",
    "- Uses scipy's `minimize` function to find the best-fitting parameters\n",
    "- Extracts the fitted parameters from the result\n",
    "- Prints the optimized mu and sigma values\n",
    "\n",
    "The overall process implements **quantile matching** - a method where distribution parameters are estimated by minimizing the difference between theoretical quantiles (from the assumed distribution) and empirical quantiles (from the observed data). This is particularly useful when you only have summary statistics rather than the full dataset."
   ]
  },
  {
   "cell_type": "markdown",
   "id": "1121fef5",
   "metadata": {},
   "source": [
    "#### Simulate and visualize fitted distribution"
   ]
  },
  {
   "cell_type": "code",
   "execution_count": 9,
   "id": "3eb237b2",
   "metadata": {},
   "outputs": [],
   "source": [
    "import matplotlib.pyplot as plt"
   ]
  },
  {
   "cell_type": "code",
   "execution_count": 10,
   "id": "a04af93b",
   "metadata": {},
   "outputs": [],
   "source": [
    "# Generate simulated onset ages\n",
    "sim_ages = lognorm(s=sigma_fit, scale=np.exp(mu_fit)).rvs(10000)"
   ]
  },
  {
   "cell_type": "markdown",
   "id": "89c4f948",
   "metadata": {},
   "source": [
    "The function `.rvs(10000)` generates 10,000 random variates (samples) from this fitted distribution. The result is stored in `sim_ages`, which contains 10,000 simulated onset ages"
   ]
  },
  {
   "cell_type": "code",
   "execution_count": 11,
   "id": "b3ad8dc0",
   "metadata": {},
   "outputs": [
    {
     "data": {
      "image/png": "[encoded data removed]",
      "text/plain": [
       "<Figure size 1200x400 with 2 Axes>"
      ]
     },
     "metadata": {},
     "output_type": "display_data"
    }
   ],
   "source": [
    "# Plot histogram + CDF overlay\n",
    "fig, ax = plt.subplots(1,2, figsize=(12,4))\n",
    "\n",
    "# Histogram\n",
    "ax[0].hist(sim_ages, bins=50, color='skyblue', edgecolor='black')\n",
    "ax[0].axvline(x=median, color='red', linestyle='--', label='Reported median')\n",
    "ax[0].set_xlim(0, 100)  # Set x-axis range from 0 to 100\n",
    "ax[0].set_title('Simulated Onset Ages (Log-normal fit)')\n",
    "ax[0].legend()\n",
    "\n",
    "# CDF comparison\n",
    "x = np.linspace(0, 100, 300) # Age range for CDF from 0 to 100\n",
    "model_cdf = lognorm(s=sigma_fit, scale=np.exp(mu_fit)).cdf(x) # Call cumulative distribution function on the distribution object\n",
    "ax[1].plot(x, model_cdf, label='Fitted CDF')\n",
    "ax[1].scatter([min, q1, median, q3, max], [0.01, 0.25, 0.5, 0.75, 0.99], color='red', label='Empirical Quantiles')\n",
    "ax[1].set_title('Empirical vs Fitted CDF')\n",
    "ax[1].legend()\n",
    "\n",
    "plt.tight_layout()\n",
    "plt.show()"
   ]
  },
  {
   "cell_type": "markdown",
   "id": "d14ac863",
   "metadata": {},
   "source": [
    "## Fit Weibull distribution"
   ]
  },
  {
   "cell_type": "markdown",
   "id": "02ddcc4d",
   "metadata": {},
   "source": [
    "Fit 2-parameter Weibull distribution:\n",
    "- c: Shape parameter \n",
    "- λ: Scale parameter"
   ]
  },
  {
   "cell_type": "code",
   "execution_count": 12,
   "id": "8ae2d96f",
   "metadata": {},
   "outputs": [],
   "source": [
    "import numpy as np\n",
    "from scipy.stats import weibull_min\n",
    "from scipy.optimize import minimize"
   ]
  },
  {
   "cell_type": "code",
   "execution_count": 13,
   "id": "ba4076d1",
   "metadata": {},
   "outputs": [],
   "source": [
    "# Define quantile matching objective for Weibull\n",
    "def weibull_objective(params):\n",
    "    shape, scale = params\n",
    "    if shape <= 0 or scale <= 0:\n",
    "        return np.inf\n",
    "    dist = weibull_min(c=shape, scale=scale)\n",
    "    theo_q = dist.ppf([0.25, 0.5, 0.75])\n",
    "    return np.sum((np.array(theo_q) - empirical_q) **2)"
   ]
  },
  {
   "cell_type": "code",
   "execution_count": 14,
   "id": "9bf6ed25",
   "metadata": {},
   "outputs": [
    {
     "name": "stdout",
     "output_type": "stream",
     "text": [
      "Fitted Weibull parameters:\n",
      " shape = 9.460, scale = 69.247\n"
     ]
    }
   ],
   "source": [
    "# Initial guess for shape and scale\n",
    "initial_guess_weibull = [2, 10]\n",
    "bounds_weibull = [(0.01, None), (0.01, None)]\n",
    "\n",
    "result_weibull = minimize(weibull_objective, x0=initial_guess_weibull, bounds=bounds_weibull)\n",
    "shape_fit_weibull, scale_fit_weibull = result_weibull.x\n",
    "\n",
    "print(f\"Fitted Weibull parameters:\\n shape = {shape_fit_weibull:.3f}, scale = {scale_fit_weibull:.3f}\")"
   ]
  },
  {
   "cell_type": "markdown",
   "id": "51415b67",
   "metadata": {},
   "source": [
    "**Setup and Optimization:**\n",
    "\n",
    "- `initial_guess_weibull = [2, 10]`: Starting values for the optimization\n",
    "  - Shape parameter (c) = 2\n",
    "  - Scale parameter (λ) = 10\n",
    "- `bounds_weibull = [(0.01, None), (0.01, None)]`: Parameter constraints\n",
    "  - Both shape and scale must be ≥ 0.01 (positive values)\n",
    "  - No upper bounds (None)\n",
    "\n",
    "**Optimization Process:**\n",
    "\n",
    "- `minimize(weibull_objective, x0=initial_guess_weibull, bounds=bounds_weibull)`: Uses scipy's minimize function to find the best-fitting Weibull parameters\n",
    "- `weibull_objective`: The objective function defined in the previous cell that minimizes squared differences between theoretical and empirical quantiles\n",
    "- `result_weibull.x`: Extracts the optimized parameters from the result\n",
    "\n",
    "**Output:**\n",
    "\n",
    "- `shape_fit_weibull`, `scale_fit_weibull`: The fitted shape and scale parameters"
   ]
  },
  {
   "cell_type": "markdown",
   "id": "36029d15",
   "metadata": {},
   "source": [
    "### Simulate and visualize fitted distribution"
   ]
  },
  {
   "cell_type": "code",
   "execution_count": 15,
   "id": "89061701",
   "metadata": {},
   "outputs": [],
   "source": [
    "import matplotlib.pyplot as plt"
   ]
  },
  {
   "cell_type": "code",
   "execution_count": 16,
   "id": "94172550",
   "metadata": {},
   "outputs": [],
   "source": [
    "# Simulate from fitted Weibull\n",
    "sim_ages_weibull = weibull_min(c=shape_fit_weibull, scale=scale_fit_weibull).rvs(10000)"
   ]
  },
  {
   "cell_type": "code",
   "execution_count": 17,
   "id": "193c0f6f",
   "metadata": {},
   "outputs": [
    {
     "data": {
      "image/png": "[encoded data removed]",
      "text/plain": [
       "<Figure size 1200x400 with 2 Axes>"
      ]
     },
     "metadata": {},
     "output_type": "display_data"
    }
   ],
   "source": [
    "# Plot histogram\n",
    "fig, ax = plt.subplots(1,2, figsize=(12,4))\n",
    "\n",
    "ax[0].hist(sim_ages_weibull, bins=50, color='lightgreen', edgecolor='black')\n",
    "ax[0].axvline(x=median, color='red', linestyle='--', label='Reported median')\n",
    "ax[0].set_xlim(0, 100)\n",
    "ax[0].set_title('Simulated Onset Ages (Weibull fit)')\n",
    "ax[0].legend()\n",
    "\n",
    "# Plot empirical vs fitted CDF\n",
    "x_weibull = np.linspace(0, 100, 300)\n",
    "model_cdf_weibull = weibull_min(c=shape_fit_weibull, scale=scale_fit_weibull).cdf(x_weibull)\n",
    "ax[1].plot(x_weibull, model_cdf_weibull, label='Fitted CDF')\n",
    "ax[1].scatter([min, q1, median, q3, max], [0.01, 0.25, 0.5, 0.75, 0.99], color='red', label='Empirical quantiles')\n",
    "ax[1].set_title('Empirical vs Fitted CDF')\n",
    "ax[1].legend()\n",
    "\n",
    "plt.tight_layout()\n",
    "plt.show()"
   ]
  },
  {
   "cell_type": "markdown",
   "id": "b6f81c93",
   "metadata": {},
   "source": [
    "## Generalized Gamma"
   ]
  },
  {
   "cell_type": "markdown",
   "id": "a4149a78",
   "metadata": {},
   "source": [
    "The generalized Gamma distribution has three parameters to fit:\n",
    "- a: shape parameter\n",
    "- c: power parameter\n",
    "- scale: scale parameter"
   ]
  },
  {
   "cell_type": "code",
   "execution_count": 18,
   "id": "018b4f49",
   "metadata": {},
   "outputs": [],
   "source": [
    "import numpy as np\n",
    "from scipy.stats import gengamma\n",
    "from scipy.optimize import minimize"
   ]
  },
  {
   "cell_type": "code",
   "execution_count": 19,
   "id": "1085a3ab",
   "metadata": {},
   "outputs": [],
   "source": [
    "# Define the quantile-matching objective function\n",
    "def gengamma_objective(params):\n",
    "    a, c, scale = params\n",
    "    if a <= 0 or scale <= 0:\n",
    "        return np.inf\n",
    "    try:\n",
    "        dist = gengamma(a=a, c=c, scale=scale)\n",
    "        theo_q = dist.ppf([0.25, 0.5, 0.75])\n",
    "        return np.sum((np.array(theo_q)- np.array(empirical_q))**2)\n",
    "    except:\n",
    "        return np.inf"
   ]
  },
  {
   "cell_type": "code",
   "execution_count": 20,
   "id": "66577b91",
   "metadata": {},
   "outputs": [
    {
     "name": "stdout",
     "output_type": "stream",
     "text": [
      "Fitted Generalized Gamma parameters:\n",
      " a = 26.611, c = 1.583, scale_fit_gengamma = 8.409\n"
     ]
    },
    {
     "name": "stderr",
     "output_type": "stream",
     "text": [
      "/var/folders/b8/9ymtxc2j7rb00xx34s753cwc0000gn/T/ipykernel_51726/1451994867.py:9: RuntimeWarning: overflow encountered in square\n",
      "  return np.sum((np.array(theo_q)- np.array(empirical_q))**2)\n",
      "/opt/anaconda3/lib/python3.12/site-packages/scipy/optimize/_numdiff.py:590: RuntimeWarning: invalid value encountered in subtract\n",
      "  df = fun(x) - f0\n"
     ]
    }
   ],
   "source": [
    "# Run the optimization\n",
    "initial_guess_gengamma = [2.0, 1.0, 10.0]\n",
    "bounds_gengamma = [(0.01, None), (0.01, None), (0.01, None)]\n",
    "\n",
    "result_gengamma = minimize(gengamma_objective, x0=initial_guess_gengamma, bounds=bounds_gengamma)\n",
    "a_fit_gengamma, c_fit_gengamma, scale_fit_gengamma = result_gengamma.x\n",
    "\n",
    "print(f\"Fitted Generalized Gamma parameters:\\n a = {a_fit_gengamma:.3f}, c = {c_fit_gengamma:.3f}, scale_fit_gengamma = {scale_fit_gengamma:.3f}\")"
   ]
  },
  {
   "cell_type": "code",
   "execution_count": 21,
   "id": "6d072ce0",
   "metadata": {},
   "outputs": [],
   "source": [
    "# Simulate and visualize\n",
    "import matplotlib.pyplot as plt"
   ]
  },
  {
   "cell_type": "code",
   "execution_count": 22,
   "id": "9ec4c4f3",
   "metadata": {},
   "outputs": [],
   "source": [
    "# Simulate onset ages \n",
    "sim_ages_gengamma = gengamma(a = a_fit_gengamma, c = c_fit_gengamma, scale = scale_fit_gengamma).rvs(10000)"
   ]
  },
  {
   "cell_type": "code",
   "execution_count": 23,
   "id": "bc5a907d",
   "metadata": {},
   "outputs": [
    {
     "data": {
      "image/png": "[encoded data removed]",
      "text/plain": [
       "<Figure size 1200x400 with 2 Axes>"
      ]
     },
     "metadata": {},
     "output_type": "display_data"
    }
   ],
   "source": [
    "# Plot histogram and CDF\n",
    "fig, ax = plt.subplots(1, 2, figsize = (12, 4))\n",
    "\n",
    "# Histogram\n",
    "ax[0].hist(sim_ages_gengamma, bins=50, color='lightcoral', edgecolor='black')\n",
    "ax[0].axvline(x=median, color='red', linestyle='--', label='Reported median')\n",
    "ax[0].set_title('Simulated Onset Ages (GenGamma fit)')\n",
    "ax[0].legend()\n",
    "\n",
    "# CDF\n",
    "x_gengamma = np.linspace(0, 100, 300)\n",
    "model_cdf_gengamma = gengamma(a=a_fit_gengamma, c=c_fit_gengamma, scale=scale_fit_gengamma).cdf(x_gengamma)\n",
    "ax[1].plot(x_gengamma, model_cdf_gengamma, label='Fitted CDF')\n",
    "ax[1].scatter([min, q1, median, q3, max], [0.01, 0.25, 0.5, 0.75, 0.99], color='red', label='Empirical quantiles')\n",
    "ax[1].set_title('Empirical vs Fitted CDF')\n",
    "ax[1].legend()\n",
    "\n",
    "plt.tight_layout()\n",
    "plt.show()\n"
   ]
  },
  {
   "cell_type": "markdown",
   "id": "80462e06",
   "metadata": {},
   "source": [
    "## Evaluate goodness-of-fit"
   ]
  },
  {
   "cell_type": "markdown",
   "id": "de50f945",
   "metadata": {},
   "source": [
    "Calculate the sum of squared differences between modelled and observed quantiles. Identify the best-fitting distribution."
   ]
  },
  {
   "cell_type": "code",
   "execution_count": 24,
   "id": "6c94583d",
   "metadata": {},
   "outputs": [
    {
     "name": "stdout",
     "output_type": "stream",
     "text": [
      "Sum of squared differences: 0.1287\n"
     ]
    }
   ],
   "source": [
    "# Estimate quantiles from simulated age distributions\n",
    "q25, q50, q75 = np.percentile(sim_ages, [25, 50, 75])\n",
    "\n",
    "model_quantiles = np.array([q25, q50, q75])\n",
    "\n",
    "# Calculate squared difference between modeled- and empirical quantiles\n",
    "squared_diff = (model_quantiles - empirical_q) ** 2\n",
    "sum_squared_diff = np.sum(squared_diff)\n",
    "print(f\"Sum of squared differences: {sum_squared_diff:.4f}\")\n"
   ]
  },
  {
   "cell_type": "code",
   "execution_count": 25,
   "id": "934fbd20",
   "metadata": {},
   "outputs": [
    {
     "name": "stdout",
     "output_type": "stream",
     "text": [
      "Sum of squared differences for lognormal: 0.1287\n",
      "Sum of squared differences for weibull: 0.5581\n",
      "Sum of squared differences for gengamma: 0.1044\n"
     ]
    }
   ],
   "source": [
    "# Initialize dictionary for simulated age distributions\n",
    "simulated_ages = {\n",
    "    'lognormal': sim_ages,\n",
    "    'weibull': sim_ages_weibull,\n",
    "    'gengamma': sim_ages_gengamma\n",
    "}\n",
    "\n",
    "# Estimate quantiles for each distribution\n",
    "quantiles = {}\n",
    "for dist_name, ages in simulated_ages.items():\n",
    "    q25, q50, q75 = np.percentile(ages, [25, 50, 75])\n",
    "    quantiles[dist_name] = np.array([q25, q50, q75])\n",
    "# Calculate squared differences between modelled and empirical quantiles\n",
    "squared_diffs = {}\n",
    "for dist_name, model_q in quantiles.items():\n",
    "    squared_diff = (model_q - empirical_q) ** 2\n",
    "    sum_squared_diff = np.sum(squared_diff)\n",
    "    squared_diffs[dist_name] = sum_squared_diff\n",
    "# Print the sum of squared differences for each distribution\n",
    "for dist_name, sum_diff in squared_diffs.items():\n",
    "    print(f\"Sum of squared differences for {dist_name}: {sum_diff:.4f}\")"
   ]
  },
  {
   "cell_type": "markdown",
   "id": "b6c57038",
   "metadata": {},
   "source": [
    "In this case, the Generalized Gamma distribution shows the smallest squared difference, indicating the best fit among the three candidate distributions."
   ]
  },
  {
   "cell_type": "markdown",
   "id": "c80c5e7a",
   "metadata": {},
   "source": [
    "## Estimate uncertainty"
   ]
  },
  {
   "cell_type": "markdown",
   "id": "17bbffac",
   "metadata": {},
   "source": [
    "In this fictional example, the goal is to estimate the proportions of cases in three age subgroups: <12 years, 12–17 years, and ≥18 years. Using the bootstrap technique, we calculate the average proportion for each subgroup along with corresponding 95% confidence intervals."
   ]
  },
  {
   "cell_type": "code",
   "execution_count": 26,
   "id": "ba056269",
   "metadata": {},
   "outputs": [],
   "source": [
    "# Define age bands\n",
    "age_bands = [(0,12), (12, 18), (18, 100)]\n",
    "\n",
    "# Bootstrap settings\n",
    "n_iterations = 1000\n",
    "n_samples = 10000 # per bootstrap iteration"
   ]
  },
  {
   "cell_type": "code",
   "execution_count": 27,
   "id": "65671af5",
   "metadata": {},
   "outputs": [],
   "source": [
    "# Bootstrap simulation\n",
    "bootstrap_results_gengamma = []\n",
    "\n",
    "for _ in range(n_iterations):\n",
    "    sim_ages_gengamma2 = gengamma(a = a_fit_gengamma, c = c_fit_gengamma, scale = scale_fit_gengamma).rvs(n_samples)\n",
    "    proportions = [np.mean((sim_ages_gengamma2 >= low) & (sim_ages_gengamma2 <= high)) for (low, high) in age_bands]\n",
    "    bootstrap_results_gengamma.append(proportions)\n",
    "\n",
    "bootstrap_array_gengamma = np.array(bootstrap_results_gengamma)    "
   ]
  },
  {
   "cell_type": "code",
   "execution_count": 28,
   "id": "4d6ffa10",
   "metadata": {},
   "outputs": [
    {
     "name": "stdout",
     "output_type": "stream",
     "text": [
      "[[0.     0.     1.    ]\n",
      " [0.     0.     0.9998]\n",
      " [0.     0.     1.    ]\n",
      " [0.     0.     0.9997]\n",
      " [0.     0.     0.9998]\n",
      " [0.     0.     0.9998]\n",
      " [0.     0.     1.    ]]\n"
     ]
    }
   ],
   "source": [
    "print(bootstrap_array_gengamma[:7])"
   ]
  },
  {
   "cell_type": "code",
   "execution_count": 29,
   "id": "a72e890a",
   "metadata": {},
   "outputs": [
    {
     "name": "stdout",
     "output_type": "stream",
     "text": [
      "  Age Band  Mean Proportion  95% CI Lower  95% CI Upper\n",
      "0     0-12           0.0000        0.0000           0.0\n",
      "1    12-18           0.0000        0.0000           0.0\n",
      "2   18-100           0.9999        0.9997           1.0\n"
     ]
    }
   ],
   "source": [
    "# Summarize results\n",
    "summary_gengamma = []\n",
    "for i, band in enumerate(age_bands):\n",
    "    props = bootstrap_array_gengamma[:, i]\n",
    "    summary_gengamma.append({\n",
    "        'Age Band': f'{band[0]}-{band[1]}',\n",
    "        'Mean Proportion': round(np.mean(props), 4),\n",
    "        '95% CI Lower': round(np.percentile(props, 2.5), 4),\n",
    "        '95% CI Upper': round(np.percentile(props, 97.5), 4)\n",
    "    })\n",
    "\n",
    "\n",
    "df_summary_gengamma = pd.DataFrame(summary_gengamma)\n",
    "print(df_summary_gengamma)"
   ]
  },
  {
   "cell_type": "code",
   "execution_count": 30,
   "id": "c20b9701",
   "metadata": {},
   "outputs": [
    {
     "data": {
      "image/png": "[encoded data removed]",
      "text/plain": [
       "<Figure size 800x500 with 1 Axes>"
      ]
     },
     "metadata": {},
     "output_type": "display_data"
    }
   ],
   "source": [
    "# Todo: Visualize mean proportion and 95% CI using a bar plot and error bars.\n",
    "import matplotlib.pyplot as plt\n",
    "import numpy as np\n",
    "\n",
    "# Extract data from DataFrame\n",
    "labels = df_summary_gengamma[\"Age Band\"]\n",
    "means = df_summary_gengamma[\"Mean Proportion\"]\n",
    "ci_lower = df_summary_gengamma[\"95% CI Lower\"]\n",
    "ci_upper = df_summary_gengamma[\"95% CI Upper\"]\n",
    "\n",
    "# Calculate error bars\n",
    "error_lower = np.maximum(means - ci_lower, 0)\n",
    "error_upper = np.maximum(ci_upper - means, 0)\n",
    "error = [error_lower, error_upper]\n",
    "\n",
    "# Create bar plot with error bars\n",
    "fig, ax = plt.subplots(figsize=(8, 5))\n",
    "bars = ax.bar(labels, means, yerr=error, capsize=6, color='lightblue', edgecolor='black')\n",
    "\n",
    "# Annotate percentages\n",
    "for i, bar in enumerate(bars):\n",
    "    height = bar.get_height()\n",
    "    ax.annotate(f\"{height:.1%}\",\n",
    "                xy=(bar.get_x() + bar.get_width() / 2, height),\n",
    "                xytext=(0, 5),\n",
    "                textcoords=\"offset points\",\n",
    "                ha='center', va='bottom')\n",
    "\n",
    "# Format the plot\n",
    "ax.set_ylabel(\"Proportion\")\n",
    "ax.set_title(\"Age-Band Proportions with 95% CI (from Generalized Gamma Bootstrap)\")\n",
    "ax.set_ylim(0, 1.05 * ci_upper.max())\n",
    "ax.grid(axis='y', linestyle='--', alpha=0.7)\n",
    "\n",
    "plt.tight_layout()\n",
    "plt.show()"
   ]
  },
  {
   "cell_type": "markdown",
   "id": "c3d810c5",
   "metadata": {},
   "source": [
    "## Sensitivity analysis"
   ]
  },
  {
   "cell_type": "markdown",
   "id": "7ec077c7",
   "metadata": {},
   "source": [
    "### Purpose\n",
    "\n",
    "In rare disease modelling, we often estimate age-band-specific disease burden using a fitted parametric distribution (eg., Generalized Gamma) based on limited summary statistics. However, these fitted parameters (like shape, power, or scale) are subject to uncertainty due to:\n",
    "- Sampling variation in reported medians and quantiles\n",
    "- Assumptions in fitting procedures\n",
    "- Study heterogeneity\n",
    "\n",
    "Sensitivity analysis helps us assess how robust our simulated age-band proportions are to small changes in these parameter values."
   ]
  },
  {
   "cell_type": "markdown",
   "id": "acac1252",
   "metadata": {},
   "source": [
    "### Approach\n",
    "\n",
    "1. Define a range of plausible values for key distribution parameters (eg. plus-minus 10% from fitted a, c, and scale)\n",
    "2. Simulate onset ages for each parameter combination using the Generalized Gamma distribution. \n",
    "3. Calculate proportions of simulated cases that fall into age bands (eg. 0-12, 13-17, and 18+).\n",
    "4. Compare and visualize results to identify if small changes in parameters lead to material differences in outputs."
   ]
  },
  {
   "cell_type": "code",
   "execution_count": 31,
   "id": "6853fece",
   "metadata": {},
   "outputs": [],
   "source": [
    "import numpy as np\n",
    "import pandas as pd\n",
    "from scipy.stats import gengamma"
   ]
  },
  {
   "cell_type": "code",
   "execution_count": 32,
   "id": "450c0c86",
   "metadata": {},
   "outputs": [],
   "source": [
    "# Define plausible parameter ranges by varying each parameter of the generalized Gamma by minus-plus 10%\n",
    "\n",
    "# Center values \n",
    "a_center = 26.611\n",
    "c_center = 1.583\n",
    "scale_center = 8.409\n"
   ]
  },
  {
   "cell_type": "code",
   "execution_count": 33,
   "id": "f69ee22e",
   "metadata": {},
   "outputs": [],
   "source": [
    "# Defined ±10% variation grid (3 points per parameter)\n",
    "a_vals = np.round(np.linspace(0.9*a_center, 1.1*a_center, 3), 3)\n",
    "c_vals = np.round(np.linspace(0.9*c_center, 1.1*c_center, 3), 3)\n",
    "scale_vals = np.round(np.linspace(0.9*scale_center, 1.1*scale_center, 3), 3)\n"
   ]
  },
  {
   "cell_type": "code",
   "execution_count": 34,
   "id": "d106161c",
   "metadata": {},
   "outputs": [
    {
     "name": "stdout",
     "output_type": "stream",
     "text": [
      "  Parameter    Range (±10%)\n",
      "0         a  23.95 - 29.272\n",
      "1         c   1.425 - 1.741\n",
      "2     scale    7.568 - 9.25\n"
     ]
    }
   ],
   "source": [
    "# Create a DataFrame to summarize the parameter ranges\n",
    "\n",
    "df_params_overview = pd.DataFrame({\n",
    "    'Parameter': ['a', 'c', 'scale'],\n",
    "    'Range (±10%)': [\n",
    "        f\"{a_vals[0]} - {a_vals[2]}\",\n",
    "        f\"{c_vals[0]} - {c_vals[2]}\",\n",
    "        f\"{scale_vals[0]} - {scale_vals[2]}\"\n",
    "    ]\n",
    "})\n",
    "\n",
    "print(df_params_overview)"
   ]
  },
  {
   "cell_type": "code",
   "execution_count": 35,
   "id": "0d135be0",
   "metadata": {},
   "outputs": [],
   "source": [
    "# Simulate and store age-band proportions for each parameter combination\n",
    "results = []\n",
    "\n",
    "for a in a_vals:\n",
    "    for c in c_vals:\n",
    "        for scale in scale_vals:\n",
    "            # Simulate onset ages from the generalized Gamma distribution\n",
    "            try:\n",
    "                sim_ages = gengamma(a=a, c=c, scale=scale).rvs(10000)\n",
    "                \n",
    "                # Calculate proportions in age bands\n",
    "                proportions = [\n",
    "                    np.mean((sim_ages >= 0) & (sim_ages <= 12)),\n",
    "                    np.mean((sim_ages > 12) & (sim_ages <= 18)),\n",
    "                    np.mean(sim_ages > 18)\n",
    "                ]\n",
    "                \n",
    "                results.append({\n",
    "                    'a': a,\n",
    "                    'c': c,\n",
    "                    'scale': scale,\n",
    "                    'Proportion 0-12': proportions[0],\n",
    "                    'Proportion 13-17': proportions[1],\n",
    "                    'Proportion 18+': proportions[2]\n",
    "                })\n",
    "            except:\n",
    "                continue  # Skip invalid parameter combinations"
   ]
  },
  {
   "cell_type": "code",
   "execution_count": 36,
   "id": "18c94b5c",
   "metadata": {},
   "outputs": [
    {
     "name": "stdout",
     "output_type": "stream",
     "text": [
      "       a      c  scale  Proportion 0-12  Proportion 13-17  Proportion 18+\n",
      "0  23.95  1.425  7.568              0.0               0.0             1.0\n",
      "1  23.95  1.425  8.409              0.0               0.0             1.0\n",
      "2  23.95  1.425  9.250              0.0               0.0             1.0\n",
      "3  23.95  1.583  7.568              0.0               0.0             1.0\n",
      "4  23.95  1.583  8.409              0.0               0.0             1.0\n"
     ]
    }
   ],
   "source": [
    "# Create a DataFrame from the sensitivity analysis results\n",
    "df_sensitivity_results = pd.DataFrame(results)\n",
    "print(df_sensitivity_results.head())"
   ]
  },
  {
   "cell_type": "code",
   "execution_count": 37,
   "id": "ae0cde00",
   "metadata": {},
   "outputs": [
    {
     "name": "stdout",
     "output_type": "stream",
     "text": [
      "c       1.425  1.583  1.741\n",
      "a                          \n",
      "23.950    1.0    1.0    1.0\n",
      "26.611    1.0    1.0    1.0\n",
      "29.272    1.0    1.0    1.0\n"
     ]
    }
   ],
   "source": [
    "# Visualize the sensitivity analysis results\n",
    "import seaborn as sns\n",
    "import matplotlib.pyplot as plt\n",
    "\n",
    "# Filter for fixed scale = 8.409 to simplify visualization\n",
    "subset = df_sensitivity_results[df_sensitivity_results['scale'] == 8.409]\n",
    "pivot = subset.pivot(index=\"a\", columns=\"c\", values=\"Proportion 18+\")\n",
    "\n",
    "print(pivot)\n"
   ]
  },
  {
   "cell_type": "code",
   "execution_count": 38,
   "id": "1bf813aa",
   "metadata": {},
   "outputs": [
    {
     "data": {
      "image/png": "[encoded data removed]",
      "text/plain": [
       "<Figure size 600x400 with 2 Axes>"
      ]
     },
     "metadata": {},
     "output_type": "display_data"
    }
   ],
   "source": [
    "plt.figure(figsize=(6, 4))\n",
    "sns.heatmap(pivot, annot=True, fmt=\".3f\", cmap=\"YlOrBr\")\n",
    "plt.title(\"Sensitivity of Age 0–12 Proportion (Generalized Gamma)\")\n",
    "plt.xlabel(\"c (power)\")\n",
    "plt.ylabel(\"a (shape)\")\n",
    "plt.tight_layout()\n",
    "plt.show()"
   ]
  },
  {
   "cell_type": "markdown",
   "id": "bc94866c",
   "metadata": {},
   "source": [
    "### Compare results across multiple age bands visually\n",
    "\n",
    "Plot line plots or grouped bar plots per age band."
   ]
  },
  {
   "cell_type": "code",
   "execution_count": 39,
   "id": "23124372",
   "metadata": {},
   "outputs": [
    {
     "name": "stdout",
     "output_type": "stream",
     "text": [
      "       a      c  scale         Age Band  Proportion\n",
      "0  23.95  1.425  7.568  Proportion 0-12         0.0\n",
      "1  23.95  1.425  8.409  Proportion 0-12         0.0\n",
      "2  23.95  1.425  9.250  Proportion 0-12         0.0\n",
      "3  23.95  1.583  7.568  Proportion 0-12         0.0\n",
      "4  23.95  1.583  8.409  Proportion 0-12         0.0\n"
     ]
    }
   ],
   "source": [
    "# Reshape result to long format for easier plotting\n",
    "df_long = df_sensitivity_results.melt(id_vars=['a', 'c', 'scale'], \n",
    "                                      value_vars=['Proportion 0-12', 'Proportion 13-17', 'Proportion 18+'],\n",
    "                                      var_name='Age Band', value_name='Proportion')\n",
    "\n",
    "print(df_long.head())"
   ]
  },
  {
   "cell_type": "code",
   "execution_count": 40,
   "id": "52d4da75",
   "metadata": {},
   "outputs": [
    {
     "data": {
      "image/png": "[encoded data removed]",
      "text/plain": [
       "<Figure size 1000x600 with 1 Axes>"
      ]
     },
     "metadata": {},
     "output_type": "display_data"
    }
   ],
   "source": [
    "# Plot grouped bar chart by age band \n",
    "\n",
    "import seaborn as sns\n",
    "import matplotlib.pyplot as plt\n",
    "\n",
    "# Filter for one fixed value (eg. 8.409)\n",
    "subset = df_long[df_long['scale'] == 8.409]\n",
    "\n",
    "plt.figure(figsize=(10, 6)) # Set figure size\n",
    "sns.barplot(data=subset, x='c', y='Proportion', hue='Age Band', errorbar=None)\n",
    "plt.title(\"Sensitivity by Power (c) - Fixed scale = 8.4\")\n",
    "plt.xlabel(\"Power (c)\")\n",
    "plt.ylabel(\"Proportion in Age Band\")\n",
    "plt.legend(title=\"Age Band\")\n",
    "plt.grid(axis=\"y\", linestyle=\"--\", alpha=0.5)\n",
    "plt.tight_layout()"
   ]
  },
  {
   "cell_type": "markdown",
   "id": "29e1029f",
   "metadata": {},
   "source": [
    "## Sensitivity analysis with Monte Carlo simulation"
   ]
  },
  {
   "cell_type": "markdown",
   "id": "3345a41f",
   "metadata": {},
   "source": [
    "### Purpose"
   ]
  },
  {
   "cell_type": "markdown",
   "id": "db8d47c8",
   "metadata": {},
   "source": [
    "The current sensitivity analysis based on a fixed ±10% grid has notable limitations. \n",
    "\n",
    "To address these, I plan to implement Monte Carlo simulation using fitted distribution parameters, which offers three key advantages:\n",
    "\n",
    "- Continuous uncertainty representation rather than relying on only low, central, and high values.\n",
    "- Faster and smoother calculations through the cumulative distribution function (CDF), without the need for inner resampling.\n",
    "- More stable confidence intervals and compatibility with tornado analysis for identifying key drivers."
   ]
  },
  {
   "cell_type": "markdown",
   "id": "19a0aa8b",
   "metadata": {},
   "source": [
    "### Procedure"
   ]
  },
  {
   "cell_type": "markdown",
   "id": "7396a7e2",
   "metadata": {},
   "source": [
    "1. Draw N parameter triplets from continous priors distributions.\n",
    "2. Use CDF differences to get exact band probabilities per draw.\n",
    "3. Aggregate acroos draws to get mean, median and 95% CI. "
   ]
  },
  {
   "cell_type": "markdown",
   "id": "c86eed63",
   "metadata": {},
   "source": [
    "### Code for implementation"
   ]
  },
  {
   "cell_type": "code",
   "execution_count": 41,
   "id": "d1fc166e",
   "metadata": {},
   "outputs": [],
   "source": [
    "import numpy as np\n",
    "import pandas as pd\n",
    "from scipy.stats import gengamma, norm"
   ]
  },
  {
   "cell_type": "code",
   "execution_count": 42,
   "id": "dece1b48",
   "metadata": {},
   "outputs": [
    {
     "data": {
      "text/plain": [
       "  message: CONVERGENCE: REL_REDUCTION_OF_F_<=_FACTR*EPSMCH\n",
       "  success: True\n",
       "   status: 0\n",
       "      fun: 0.10243077858152738\n",
       "        x: [ 2.661e+01  1.583e+00  8.409e+00]\n",
       "      nit: 88\n",
       "      jac: [-1.463e-02  1.069e+00 -8.571e-02]\n",
       "     nfev: 456\n",
       "     njev: 114\n",
       " hess_inv: <3x3 LbfgsInvHessProduct with dtype=float64>"
      ]
     },
     "execution_count": 42,
     "metadata": {},
     "output_type": "execute_result"
    }
   ],
   "source": [
    "# The fitted model object from previous analysis\n",
    "result_gengamma\n"
   ]
  },
  {
   "cell_type": "code",
   "execution_count": 43,
   "id": "735f1cd3",
   "metadata": {},
   "outputs": [
    {
     "name": "stdout",
     "output_type": "stream",
     "text": [
      "<3x3 LbfgsInvHessProduct with dtype=float64>\n"
     ]
    }
   ],
   "source": [
    "print(result_gengamma.hess_inv)"
   ]
  },
  {
   "cell_type": "code",
   "execution_count": 44,
   "id": "944c83de",
   "metadata": {},
   "outputs": [
    {
     "name": "stdout",
     "output_type": "stream",
     "text": [
      "[26.61103626  1.58349596  8.40915197]\n"
     ]
    }
   ],
   "source": [
    "# Get the MLE\n",
    "theta_hat = result_gengamma.x\n",
    "\n",
    "print(theta_hat)"
   ]
  },
  {
   "cell_type": "markdown",
   "id": "6c1a4dea",
   "metadata": {},
   "source": [
    "According to the output of fitted Generalized Gamma model, the key parameters of the distribution inlcudes:\n",
    "- mean = 26.61\n",
    "- log SD = 1.58\n",
    "- Q = 8.41\n",
    "\n",
    "The parameter mean shifts the curve on the log-time axis; scale controls spread of log times; and Q governs skewness and hazard shape, determining sub-family."
   ]
  },
  {
   "cell_type": "markdown",
   "id": "7daad2e9",
   "metadata": {},
   "source": [
    "Compute the Hessian numerically at the optimum"
   ]
  },
  {
   "cell_type": "code",
   "execution_count": 45,
   "id": "8bdc4f6d",
   "metadata": {},
   "outputs": [],
   "source": [
    "import numpy as np\n",
    "from statsmodels.tools.numdiff import approx_hess\n",
    "\n",
    "H = approx_hess(theta_hat, gengamma_objective)  # by default, central differences"
   ]
  },
  {
   "cell_type": "code",
   "execution_count": 46,
   "id": "981ca130",
   "metadata": {},
   "outputs": [
    {
     "name": "stdout",
     "output_type": "stream",
     "text": [
      "[[ 5.95129550e+02 -1.77608293e+01 -3.15062237e+02]\n",
      " [-1.77608293e+01  5.51055889e-01  9.63377691e+00]\n",
      " [-3.15062237e+02  9.63377691e+00  1.69340808e+02]]\n"
     ]
    }
   ],
   "source": [
    "# Invert the Hessian to get the variance-covariance matrix\n",
    "vcov_matrix = np.linalg.inv(H)\n",
    "\n",
    "print(vcov_matrix)"
   ]
  },
  {
   "cell_type": "code",
   "execution_count": 47,
   "id": "5faa4a1e",
   "metadata": {},
   "outputs": [],
   "source": [
    "# Multivariate normal sampling on fitted scale\n",
    "\n",
    "from numpy.random import default_rng\n",
    "rng = default_rng(123)\n",
    "N = 5000\n",
    "\n",
    "m = theta_hat  # MLE parameter vector\n",
    "L = np.linalg.cholesky(vcov_matrix)  # Cholesky decomposition of variance-covariance matrix\n",
    "Z = rng.standard_normal((N, len(m)))  # Standard normal samples\n",
    "\n",
    "theta_draws = m + Z @ L.T  # MVN samples of parameters\n",
    "mu_draws, log_sigma_draws, Q_draws = theta_draws.T\n",
    "sigma_draws = np.exp(log_sigma_draws)"
   ]
  },
  {
   "cell_type": "markdown",
   "id": "32deb988",
   "metadata": {},
   "source": [
    "Fitted parameters of generalized Gamma distribution"
   ]
  },
  {
   "cell_type": "code",
   "execution_count": 50,
   "id": "194e1ae1",
   "metadata": {},
   "outputs": [],
   "source": [
    "# Age bands (inclusive of lower, exclusive of upper)\n",
    "age_bands = [(0, 12), (12, 18), (18, 100)]"
   ]
  },
  {
   "cell_type": "markdown",
   "id": "3869cb16",
   "metadata": {},
   "source": [
    "This custom function aims to calculate log-scale standard deviation for a log-normal prior, so that approximately 95% of mass falls with ±10% multiplicative of the median."
   ]
  },
  {
   "cell_type": "markdown",
   "id": "6ab86823",
   "metadata": {},
   "source": [
    "Derivation\n",
    "\n",
    "For Y ~ Normal(mu, sigma) the 95% interval is mu ± 1.96sigma, so on the orignal scale exp(mu ± 1.96sigma) gives a multiplicative factor exp(1.96*sigma). Setting that factor = 1.1 (i.e. +10%) give sigma = ln(1.1)/ 1.96"
   ]
  },
  {
   "cell_type": "markdown",
   "id": "0ce54cc1",
   "metadata": {},
   "source": [
    "rng.lognormal() is a NumPy random number generator method that draws samples from a log-normal distribution - a distribution where the logarithm of the variable follows normal (Gaussian) distribution.\n",
    "\n",
    "rng.lognormal(mean=mu_a, sigma=s_log, size=N) draws samples X = exp(Y) where Y ~ Normal(mu_a, s_log)\n",
    "\n",
    "Note that rng.lognormal equivalent to np.exp(rng.normal(mean, sigma, size))"
   ]
  },
  {
   "cell_type": "code",
   "execution_count": 56,
   "id": "ad8e70f2",
   "metadata": {},
   "outputs": [],
   "source": [
    "# Compute band probabilities for each parameter set via CDF\n",
    "def band_probs_for_draw(a, c, s):\n",
    "    F = gengamma(a=a, c=c, scale=s).cdf\n",
    "    p0_12 = F(12.0) - F(0.0)\n",
    "    p12_18 = F(18.0) - F(12.0)\n",
    "    p18_100 = F(100.0) - F(18.0)\n",
    "    return p0_12, p12_18, p18_100"
   ]
  },
  {
   "cell_type": "markdown",
   "id": "c5f0f9b0",
   "metadata": {},
   "source": [
    "gengamma(a=a, c=c, scale=s) constructs a \"frozen\" SciPy generalized Gamma distribution with given parameters. Appending .cdf returns that distribution's cumulative distribution function as a callable (i.e., can be called like a function).\n",
    "\n",
    "What F is: a function F(x) that returns P(x <= x) for X ~ GenGamma(a,c,scale=s). It accepts acalars or numpy arrays and returns probabities in [0,1].\n",
    "\n"
   ]
  },
  {
   "cell_type": "code",
   "execution_count": null,
   "id": "5356f9a6",
   "metadata": {},
   "outputs": [
    {
     "name": "stdout",
     "output_type": "stream",
     "text": [
      "[[1.20059387e-02 7.33904212e-02 9.14603640e-01]\n",
      " [1.08145832e-25 8.45280534e-18 9.99985839e-01]\n",
      " [1.92092384e-12 1.54251855e-08 9.99999974e-01]\n",
      " [1.20756676e-18 5.23993223e-13 9.99994565e-01]\n",
      " [           nan            nan            nan]]\n"
     ]
    }
   ],
   "source": [
    "P = np.array([band_probs_for_draw(a, c, s) for a, c, s in zip(mu_draws, log_sigma_draws, Q_draws)]) # Shape (N, 3)"
   ]
  },
  {
   "cell_type": "code",
   "execution_count": 61,
   "id": "d2eda52d",
   "metadata": {},
   "outputs": [
    {
     "name": "stdout",
     "output_type": "stream",
     "text": [
      "[[1.20059387e-02 7.33904212e-02 9.14603640e-01]\n",
      " [1.08145832e-25 8.45280534e-18 9.99985839e-01]\n",
      " [1.92092384e-12 1.54251855e-08 9.99999974e-01]\n",
      " [1.20756676e-18 5.23993223e-13 9.99994565e-01]\n",
      " [           nan            nan            nan]\n",
      " [1.70337946e-27 3.55365476e-19 9.99994112e-01]\n",
      " [3.04377245e-19 1.99256162e-13 9.99996554e-01]\n",
      " [1.00000000e+00 2.01283434e-13 0.00000000e+00]\n",
      " [           nan            nan            nan]\n",
      " [           nan            nan            nan]]\n"
     ]
    }
   ],
   "source": [
    "print(P[:10])"
   ]
  },
  {
   "cell_type": "code",
   "execution_count": 64,
   "id": "7e2eef31",
   "metadata": {},
   "outputs": [],
   "source": [
    "# Filter out NaNs in all three columns\n",
    "P = P[~np.isnan(P).any(axis=1)]"
   ]
  },
  {
   "cell_type": "code",
   "execution_count": 65,
   "id": "78875e65",
   "metadata": {},
   "outputs": [
    {
     "name": "stdout",
     "output_type": "stream",
     "text": [
      "[[1.20059387e-02 7.33904212e-02 9.14603640e-01]\n",
      " [1.08145832e-25 8.45280534e-18 9.99985839e-01]\n",
      " [1.92092384e-12 1.54251855e-08 9.99999974e-01]\n",
      " [1.20756676e-18 5.23993223e-13 9.99994565e-01]\n",
      " [1.70337946e-27 3.55365476e-19 9.99994112e-01]\n",
      " [3.04377245e-19 1.99256162e-13 9.99996554e-01]\n",
      " [1.00000000e+00 2.01283434e-13 0.00000000e+00]\n",
      " [8.17154984e-16 4.93084700e-11 9.99937577e-01]\n",
      " [1.00000000e+00 0.00000000e+00 0.00000000e+00]\n",
      " [2.02810919e-20 2.75611355e-14 9.99997395e-01]]\n"
     ]
    }
   ],
   "source": [
    "print(P[:10])"
   ]
  },
  {
   "cell_type": "code",
   "execution_count": 66,
   "id": "5dba7553",
   "metadata": {},
   "outputs": [
    {
     "name": "stdout",
     "output_type": "stream",
     "text": [
      "  Age Band    Mean      SD   Median CI Lower (2.5%) CI Upper (97.5%)\n",
      "0     0-12   2.67%  14.00%    0.00%           0.00%           44.47%\n",
      "1    12-18   1.95%   9.41%    0.00%           0.00%           23.81%\n",
      "2      18+  95.38%  18.45%  100.00%           9.54%          100.00%\n"
     ]
    }
   ],
   "source": [
    "# Summarize reults\n",
    "summary = pd.DataFrame({\n",
    "    'Age Band': ['0-12', '12-18', '18+'],\n",
    "    'Mean': np.char.mod('%.2f%%', P.mean(axis=0)*100),\n",
    "    \"SD\": np.char.mod('%.2f%%', P.std(axis=0)*100),\n",
    "    \"Median\": np.char.mod('%.2f%%', np.median(P, axis=0)*100),\n",
    "    \"CI Lower (2.5%)\": np.char.mod('%.2f%%', np.percentile(P, 2.5, axis=0)*100),\n",
    "    \"CI Upper (97.5%)\": np.char.mod('%.2f%%', np.percentile(P, 97.5, axis=0)*100)\n",
    "})\n",
    "\n",
    "print(summary)\n"
   ]
  }
 ],
 "metadata": {
  "kernelspec": {
   "display_name": "base",
   "language": "python",
   "name": "python3"
  },
  "language_info": {
   "codemirror_mode": {
    "name": "ipython",
    "version": 3
   },
   "file_extension": ".py",
   "mimetype": "text/x-python",
   "name": "python",
   "nbconvert_exporter": "python",
   "pygments_lexer": "ipython3",
   "version": "3.12.2"
  }
 },
 "nbformat": 4,
 "nbformat_minor": 5
}
