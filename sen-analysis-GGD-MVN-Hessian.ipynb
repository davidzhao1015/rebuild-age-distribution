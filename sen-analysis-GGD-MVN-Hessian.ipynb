{
 "cells": [
  {
   "cell_type": "markdown",
   "id": "f55ce7f5",
   "metadata": {},
   "source": [
    "# Simulating Onset Age Distribution of anti-GABABR Autoimmune Encephalitis from Published Summary Statistics\n"
   ]
  },
  {
   "cell_type": "markdown",
   "id": "84162ca9",
   "metadata": {},
   "source": [
    "## Import required library\n"
   ]
  },
  {
   "cell_type": "code",
   "execution_count": 2,
   "id": "3cee2fd3",
   "metadata": {},
   "outputs": [],
   "source": [
    "import numpy as np\n",
    "import pandas as pd\n",
    "import matplotlib.pyplot as plt\n",
    "import seaborn as sns\n",
    "from scipy.stats import lognorm, weibull_min, gamma, genextreme # Importing necessary libraries for statistical distributions \n",
    "from scipy.optimize import minimize # Optimization for parameter fitting\n",
    "from scipy.stats import probplot # Probability plot for visual assessment\n",
    "from sklearn.metrics import mean_squared_error # Mean Squared Error for goodness-of-fit\n",
    "from scipy.stats import gaussian_kde # Kernel Density Estimation for smooth CDF"
   ]
  },
  {
   "cell_type": "markdown",
   "id": "29e1029f",
   "metadata": {},
   "source": [
    "## Sensitivity analysis with Monte Carlo simulation"
   ]
  },
  {
   "cell_type": "markdown",
   "id": "3345a41f",
   "metadata": {},
   "source": [
    "### Purpose"
   ]
  },
  {
   "cell_type": "markdown",
   "id": "db8d47c8",
   "metadata": {},
   "source": [
    "The current sensitivity analysis based on a fixed ±10% grid has notable limitations. \n",
    "\n",
    "To address these, I plan to implement Monte Carlo simulation using fitted distribution parameters, which offers three key advantages:\n",
    "\n",
    "- Continuous uncertainty representation rather than relying on only low, central, and high values.\n",
    "- Faster and smoother calculations through the cumulative distribution function (CDF), without the need for inner resampling.\n",
    "- More stable confidence intervals and compatibility with tornado analysis for identifying key drivers."
   ]
  },
  {
   "cell_type": "markdown",
   "id": "19a0aa8b",
   "metadata": {},
   "source": [
    "### Procedure"
   ]
  },
  {
   "cell_type": "markdown",
   "id": "7396a7e2",
   "metadata": {},
   "source": [
    "1. Draw N parameter triplets from continous priors distributions.\n",
    "2. Use CDF differences to get exact band probabilities per draw.\n",
    "3. Aggregate acroos draws to get mean, median and 95% CI. "
   ]
  },
  {
   "cell_type": "markdown",
   "id": "c86eed63",
   "metadata": {},
   "source": [
    "### Code for implementation"
   ]
  },
  {
   "cell_type": "code",
   "execution_count": 41,
   "id": "d1fc166e",
   "metadata": {},
   "outputs": [],
   "source": [
    "import numpy as np\n",
    "import pandas as pd\n",
    "from scipy.stats import gengamma, norm"
   ]
  },
  {
   "cell_type": "code",
   "execution_count": 42,
   "id": "dece1b48",
   "metadata": {},
   "outputs": [
    {
     "data": {
      "text/plain": [
       "  message: CONVERGENCE: REL_REDUCTION_OF_F_<=_FACTR*EPSMCH\n",
       "  success: True\n",
       "   status: 0\n",
       "      fun: 0.10243077858152738\n",
       "        x: [ 2.661e+01  1.583e+00  8.409e+00]\n",
       "      nit: 88\n",
       "      jac: [-1.463e-02  1.069e+00 -8.571e-02]\n",
       "     nfev: 456\n",
       "     njev: 114\n",
       " hess_inv: <3x3 LbfgsInvHessProduct with dtype=float64>"
      ]
     },
     "execution_count": 42,
     "metadata": {},
     "output_type": "execute_result"
    }
   ],
   "source": [
    "# The fitted model object from previous analysis\n",
    "result_gengamma\n"
   ]
  },
  {
   "cell_type": "code",
   "execution_count": 53,
   "id": "735f1cd3",
   "metadata": {},
   "outputs": [
    {
     "name": "stdout",
     "output_type": "stream",
     "text": [
      "<3x3 LbfgsInvHessProduct with dtype=float64>\n"
     ]
    }
   ],
   "source": [
    "print(result_gengamma.hess_inv)"
   ]
  },
  {
   "cell_type": "code",
   "execution_count": 55,
   "id": "944c83de",
   "metadata": {},
   "outputs": [
    {
     "name": "stdout",
     "output_type": "stream",
     "text": [
      "[26.61103626  1.58349596  8.40915197]\n"
     ]
    }
   ],
   "source": [
    "# Get the MLE\n",
    "theta_hat = result_gengamma.x\n",
    "\n",
    "print(theta_hat)"
   ]
  },
  {
   "cell_type": "markdown",
   "id": "6c1a4dea",
   "metadata": {},
   "source": [
    "According to the output of fitted Generalized Gamma model, the key parameters of the distribution inlcudes:\n",
    "- mean = 26.61\n",
    "- log SD = 1.58\n",
    "- Q = 8.41\n",
    "\n",
    "The parameter mean shifts the curve on the log-time axis; scale controls spread of log times; and Q governs skewness and hazard shape, determining sub-family."
   ]
  },
  {
   "cell_type": "markdown",
   "id": "7daad2e9",
   "metadata": {},
   "source": [
    "Compute the Hessian numerically at the optimum"
   ]
  },
  {
   "cell_type": "code",
   "execution_count": 57,
   "id": "8bdc4f6d",
   "metadata": {},
   "outputs": [],
   "source": [
    "import numpy as np\n",
    "from statsmodels.tools.numdiff import approx_hess\n",
    "\n",
    "H = approx_hess(theta_hat, gengamma_objective)  # by default, central differences"
   ]
  },
  {
   "cell_type": "code",
   "execution_count": 58,
   "id": "981ca130",
   "metadata": {},
   "outputs": [
    {
     "name": "stdout",
     "output_type": "stream",
     "text": [
      "[[ 5.95129550e+02 -1.77608293e+01 -3.15062237e+02]\n",
      " [-1.77608293e+01  5.51055889e-01  9.63377691e+00]\n",
      " [-3.15062237e+02  9.63377691e+00  1.69340808e+02]]\n"
     ]
    }
   ],
   "source": [
    "# Invert the Hessian to get the variance-covariance matrix\n",
    "vcov_matrix = np.linalg.inv(H)\n",
    "\n",
    "print(vcov_matrix)"
   ]
  },
  {
   "cell_type": "code",
   "execution_count": 60,
   "id": "353cbaf6",
   "metadata": {},
   "outputs": [
    {
     "name": "stdout",
     "output_type": "stream",
     "text": [
      "[24.3952772   0.74233139 13.01310141]\n"
     ]
    }
   ],
   "source": [
    "# Standard errors are the square roots of the diagonal elements\n",
    "std_errors = np.sqrt(np.diag(vcov_matrix))\n",
    "\n",
    "print(std_errors)"
   ]
  },
  {
   "cell_type": "markdown",
   "id": "32deb988",
   "metadata": {},
   "source": [
    "Fitted parameters of generalized Gamma distribution"
   ]
  },
  {
   "cell_type": "code",
   "execution_count": 43,
   "id": "799c53f7",
   "metadata": {},
   "outputs": [],
   "source": [
    "# Fitted parameters of generalized Gamma distribution\n",
    "\n",
    "a_hat = 26.611\n",
    "c_hat = 1.583\n",
    "scale_hat = 8.409"
   ]
  },
  {
   "cell_type": "code",
   "execution_count": 44,
   "id": "194e1ae1",
   "metadata": {},
   "outputs": [],
   "source": [
    "# Age bands (inclusive of lower, exclusive of upper)\n",
    "age_bands = [(0, 12), (12, 18), (18, 100)]"
   ]
  },
  {
   "cell_type": "code",
   "execution_count": 45,
   "id": "12d6aca8",
   "metadata": {},
   "outputs": [],
   "source": [
    "# Monte Carlo settings\n",
    "N = 1000 # Number of Monte Carlo interations\n",
    "rng = np.random.default_rng(42) # For reproducibility"
   ]
  },
  {
   "cell_type": "code",
   "execution_count": 46,
   "id": "2dee1c52",
   "metadata": {},
   "outputs": [],
   "source": [
    "# Log normal priors (distribution) that place ~95% of mass within ±10% of fitted parameters\n",
    "def calc_sigma_for_pm10():\n",
    "    return np.log(1.1) / 1.96"
   ]
  },
  {
   "cell_type": "markdown",
   "id": "3869cb16",
   "metadata": {},
   "source": [
    "This custom function aims to calculate log-scale standard deviation for a log-normal prior, so that approximately 95% of mass falls with ±10% multiplicative of the median."
   ]
  },
  {
   "cell_type": "markdown",
   "id": "6ab86823",
   "metadata": {},
   "source": [
    "Derivation\n",
    "\n",
    "For Y ~ Normal(mu, sigma) the 95% interval is mu ± 1.96sigma, so on the orignal scale exp(mu ± 1.96sigma) gives a multiplicative factor exp(1.96*sigma). Setting that factor = 1.1 (i.e. +10%) give sigma = ln(1.1)/ 1.96"
   ]
  },
  {
   "cell_type": "code",
   "execution_count": 47,
   "id": "98ec5a03",
   "metadata": {},
   "outputs": [
    {
     "name": "stdout",
     "output_type": "stream",
     "text": [
      "Log-normal standard deviation for ±10%: 0.0486\n"
     ]
    }
   ],
   "source": [
    "s_log = calc_sigma_for_pm10()\n",
    "print(f\"Log-normal standard deviation for ±10%: {s_log:.4f}\")"
   ]
  },
  {
   "cell_type": "code",
   "execution_count": 48,
   "id": "5efd18e5",
   "metadata": {},
   "outputs": [],
   "source": [
    "mu_a = np.log(a_hat)\n",
    "mu_c = np.log(c_hat)\n",
    "mu_scale = np.log(scale_hat)"
   ]
  },
  {
   "cell_type": "code",
   "execution_count": 49,
   "id": "5a9b6e49",
   "metadata": {},
   "outputs": [],
   "source": [
    "# Sample parameters from log-normal priors\n",
    "a_samples = rng.lognormal(mean=mu_a, sigma=s_log, size=N)\n",
    "c_samples = rng.lognormal(mean=mu_c, sigma=s_log, size=N)\n",
    "scale_samples = rng.lognormal(mean=mu_scale, sigma=s_log, size=N)"
   ]
  },
  {
   "cell_type": "markdown",
   "id": "0ce54cc1",
   "metadata": {},
   "source": [
    "rng.lognormal() is a NumPy random number generator method that draws samples from a log-normal distribution - a distribution where the logarithm of the variable follows normal (Gaussian) distribution.\n",
    "\n",
    "rng.lognormal(mean=mu_a, sigma=s_log, size=N) draws samples X = exp(Y) where Y ~ Normal(mu_a, s_log)\n",
    "\n",
    "Note that rng.lognormal equivalent to np.exp(rng.normal(mean, sigma, size))"
   ]
  },
  {
   "cell_type": "code",
   "execution_count": 50,
   "id": "ad8e70f2",
   "metadata": {},
   "outputs": [],
   "source": [
    "# Compute band probabilities for each parameter set via CDF\n",
    "def band_probs_for_draw(a, c, s):\n",
    "    F = gengamma(a=a, c=c, scale=s).cdf\n",
    "    p0_12 = F(12.0) - F(0.0)\n",
    "    p12_18 = F(18.0) - F(12.0)\n",
    "    p18_100 = F(100.0) - F(18.0)\n",
    "    return p0_12, p12_18, p18_100"
   ]
  },
  {
   "cell_type": "markdown",
   "id": "c5f0f9b0",
   "metadata": {},
   "source": [
    "gengamma(a=a, c=c, scale=s) constructs a \"frozen\" SciPy generalized Gamma distribution with given parameters. Appending .cdf returns that distribution's cumulative distribution function as a callable (i.e., can be called like a function).\n",
    "\n",
    "What F is: a function F(x) that returns P(x <= x) for X ~ GenGamma(a,c,scale=s). It accepts acalars or numpy arrays and returns probabities in [0,1].\n",
    "\n"
   ]
  },
  {
   "cell_type": "code",
   "execution_count": 51,
   "id": "5356f9a6",
   "metadata": {},
   "outputs": [],
   "source": [
    "P = np.array([band_probs_for_draw(a, c, s) for a, c, s in zip(a_samples, c_samples, scale_samples)]) # Shape (N, 3)"
   ]
  },
  {
   "cell_type": "code",
   "execution_count": 52,
   "id": "5dba7553",
   "metadata": {},
   "outputs": [
    {
     "name": "stdout",
     "output_type": "stream",
     "text": [
      "  Age Band    Mean     SD  Median CI Lower (2.5%) CI Upper (97.5%)\n",
      "0     0-12   0.00%  0.00%   0.00%           0.00%            0.00%\n",
      "1    12-18   0.00%  0.00%   0.00%           0.00%            0.00%\n",
      "2      18+  98.87%  4.31%  99.99%          88.34%          100.00%\n"
     ]
    }
   ],
   "source": [
    "# Summarize reults\n",
    "summary = pd.DataFrame({\n",
    "    'Age Band': ['0-12', '12-18', '18+'],\n",
    "    'Mean': np.char.mod('%.2f%%', P.mean(axis=0)*100),\n",
    "    \"SD\": np.char.mod('%.2f%%', P.std(axis=0)*100),\n",
    "    \"Median\": np.char.mod('%.2f%%', np.median(P, axis=0)*100),\n",
    "    \"CI Lower (2.5%)\": np.char.mod('%.2f%%', np.percentile(P, 2.5, axis=0)*100),\n",
    "    \"CI Upper (97.5%)\": np.char.mod('%.2f%%', np.percentile(P, 97.5, axis=0)*100)\n",
    "})\n",
    "\n",
    "print(summary)\n"
   ]
  }
 ],
 "metadata": {
  "kernelspec": {
   "display_name": "base",
   "language": "python",
   "name": "python3"
  },
  "language_info": {
   "codemirror_mode": {
    "name": "ipython",
    "version": 3
   },
   "file_extension": ".py",
   "mimetype": "text/x-python",
   "name": "python",
   "nbconvert_exporter": "python",
   "pygments_lexer": "ipython3",
   "version": "3.12.2"
  }
 },
 "nbformat": 4,
 "nbformat_minor": 5
}
